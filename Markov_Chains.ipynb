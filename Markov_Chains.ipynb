{
 "cells": [
  {
   "cell_type": "code",
   "execution_count": null,
   "metadata": {
    "collapsed": true
   },
   "outputs": [],
   "source": [
    "import pandas as pd\n",
    "import numpy as np\n",
    "import math\n",
    "from datetime import datetime"
   ]
  },
  {
   "cell_type": "code",
   "execution_count": null,
   "metadata": {
    "collapsed": true
   },
   "outputs": [],
   "source": [
    "# Pandas data manipulation"
   ]
  },
  {
   "cell_type": "code",
   "execution_count": null,
   "metadata": {
    "collapsed": true
   },
   "outputs": [],
   "source": [
    "dateparsefunct = lambda x: datetime.strptime(x, '%Y%m')\n",
    "dataframe_ts = pd.read_csv('train.csv', parse_dates= ['Date'] , date_parser= dateparsefunct)"
   ]
  },
  {
   "cell_type": "code",
   "execution_count": null,
   "metadata": {
    "collapsed": true
   },
   "outputs": [],
   "source": [
    "dataframe_ts = dataframe_ts.sort_values(['PID','Date'])\n",
    "dataframe_ts = dataframe_ts.reset_index(drop = True)"
   ]
  },
  {
   "cell_type": "code",
   "execution_count": null,
   "metadata": {},
   "outputs": [],
   "source": [
    "dataframe_ts.info(memory_usage= 'deep')"
   ]
  },
  {
   "cell_type": "markdown",
   "metadata": {},
   "source": [
    "dataframe_ts.Event.map(lambda x : True if x.isnumeric() else False ).value_counts()"
   ]
  },
  {
   "cell_type": "code",
   "execution_count": null,
   "metadata": {
    "collapsed": true
   },
   "outputs": [],
   "source": [
    "dataframe_ts_num = dataframe_ts[dataframe_ts.Event.map(lambda x : True if x.isnumeric() else False )]"
   ]
  },
  {
   "cell_type": "code",
   "execution_count": null,
   "metadata": {
    "collapsed": true
   },
   "outputs": [],
   "source": [
    "%%capture\n",
    "dataframe_ts_num.loc[: ,'Event'] = dataframe_ts_num.Event.astype(int, copy = False)"
   ]
  },
  {
   "cell_type": "markdown",
   "metadata": {},
   "source": [
    "## Obtaining unique pids"
   ]
  },
  {
   "cell_type": "code",
   "execution_count": null,
   "metadata": {
    "collapsed": true
   },
   "outputs": [],
   "source": [
    "list_of_pids = list(set(dataframe_ts_num.PID.tolist()))\n",
    "list_of_pids.sort()"
   ]
  },
  {
   "cell_type": "markdown",
   "metadata": {},
   "source": [
    "### Counting no. of patients having obs below a a thresold "
   ]
  },
  {
   "cell_type": "code",
   "execution_count": null,
   "metadata": {},
   "outputs": [],
   "source": [
    "count_all = 0\n",
    "count_less = 0\n",
    "for patient_id in list_of_pids:\n",
    "    count_all+=1\n",
    "    list_of_dis = dataframe_ts_num[dataframe_ts_num.PID == patient_id].Event.tolist()\n",
    "    if(len(list_of_dis) >51):\n",
    "        count_less+=1\n",
    "count_all, count_less"
   ]
  },
  {
   "cell_type": "markdown",
   "metadata": {},
   "source": [
    "### Counting the no. of obs for each patient "
   ]
  },
  {
   "cell_type": "code",
   "execution_count": null,
   "metadata": {
    "collapsed": true
   },
   "outputs": [],
   "source": [
    "dict_of_len = {}\n",
    "\n",
    "for patient_id in list_of_pids:\n",
    "    list_of_dis = dataframe_ts_num[dataframe_ts_num.PID == patient_id].Event.tolist()\n",
    "    dict_of_len.update({patient_id : len(list_of_dis)})"
   ]
  },
  {
   "cell_type": "code",
   "execution_count": null,
   "metadata": {},
   "outputs": [],
   "source": [
    "sorted_dict_of_len = sorted(dict_of_len.items(), key = lambda x : x[1])\n",
    "sorted_dict_of_len[:10]"
   ]
  },
  {
   "cell_type": "markdown",
   "metadata": {},
   "source": [
    "## For later use, for seeing orphan keys "
   ]
  },
  {
   "cell_type": "code",
   "execution_count": null,
   "metadata": {
    "collapsed": true
   },
   "outputs": [],
   "source": [
    "main_dis_list = [] \n",
    "for patient_id in list_of_pids:\n",
    "    list_of_dis = dataframe_ts_num[dataframe_ts_num.PID == patient_id].Event.tolist()\n",
    "    for element in list_of_dis:\n",
    "        main_dis_list.append(element)"
   ]
  },
  {
   "cell_type": "code",
   "execution_count": null,
   "metadata": {},
   "outputs": [],
   "source": [
    "a = set(main_dis_list)\n",
    "len (list(a))"
   ]
  },
  {
   "cell_type": "markdown",
   "metadata": {},
   "source": [
    "## Training & Validation set splitting(used in time of testing)"
   ]
  },
  {
   "cell_type": "code",
   "execution_count": null,
   "metadata": {
    "collapsed": true
   },
   "outputs": [],
   "source": [
    "patients_diseases_dict = {}\n",
    "test_list_dict = {}\n",
    "pid_of_patients_with_few_obs = []\n",
    "\n",
    "for patient_id in list_of_pids:\n",
    "    list_of_dis = dataframe_ts_num[dataframe_ts_num.PID == patient_id].Event.tolist()\n",
    "    if(len(list_of_dis) < 11):\n",
    "        pid_of_patients_with_few_obs.append(patient_id) \n",
    "        patients_diseases_dict.update({patient_id : list_of_dis[0:1]})\n",
    "        test_list_dict.update( {patient_id : list_of_dis[1:]} ) # training part not extracted as no test data will be left\n",
    "    else:\n",
    "        patients_diseases_dict.update( {patient_id : list_of_dis[:-9]} ) # train only for patients having more than 10 obs \n",
    "        test_list_dict.update( {patient_id : list_of_dis[-9:]} ) # saving last 9 of each for test"
   ]
  },
  {
   "cell_type": "markdown",
   "metadata": {},
   "source": [
    "## Training set creation "
   ]
  },
  {
   "cell_type": "code",
   "execution_count": null,
   "metadata": {
    "collapsed": true
   },
   "outputs": [],
   "source": [
    "patients_diseases_dict = {}\n",
    "\n",
    "for patient_id in list_of_pids:\n",
    "    list_of_dis = dataframe_ts_num[dataframe_ts_num.PID == patient_id].Event.tolist()\n",
    "    patients_diseases_dict.update({patient_id : list_of_dis})"
   ]
  },
  {
   "cell_type": "markdown",
   "metadata": {},
   "source": [
    "# Making a current_state --> possible_state dictionary "
   ]
  },
  {
   "cell_type": "code",
   "execution_count": null,
   "metadata": {
    "collapsed": true
   },
   "outputs": [],
   "source": [
    "occ_dictionary = {}\n",
    "for pid, patient_x_diseases in patients_diseases_dict.items():\n",
    "    no_of_dis = len(patient_x_diseases)\n",
    "    for i in range(no_of_dis):\n",
    "        current_state_key = occ_dictionary.get(patient_x_diseases[i], 0)\n",
    "        if( (current_state_key == 0) and ((i+1)<no_of_dis) ):\n",
    "            occ_dictionary.update({patient_x_diseases[i] : {} })\n",
    "            occ_dictionary[patient_x_diseases[i]].update( {patient_x_diseases[i+1] : 1 } )\n",
    "        else:\n",
    "            if((i+1) < no_of_dis):\n",
    "                possible_token_key_value = occ_dictionary[patient_x_diseases[i]].get(patient_x_diseases[i+1], 0)\n",
    "                if (possible_token_key_value == 0):\n",
    "                    occ_dictionary[patient_x_diseases[i]].update( {patient_x_diseases[i+1] : 1} )\n",
    "                else:\n",
    "                    occ_dictionary[patient_x_diseases[i]][patient_x_diseases[i+1]]+= 1"
   ]
  },
  {
   "cell_type": "code",
   "execution_count": null,
   "metadata": {},
   "outputs": [],
   "source": [
    "b = set(occ_dictionary.keys())\n",
    "orphan_keys = list(a - b)\n",
    "orphan_keys.sort()\n",
    "orphan_keys[:10]"
   ]
  },
  {
   "cell_type": "markdown",
   "metadata": {},
   "source": [
    "# Sorting the inner dictionary in its value"
   ]
  },
  {
   "cell_type": "code",
   "execution_count": null,
   "metadata": {
    "collapsed": true
   },
   "outputs": [],
   "source": [
    "sorted_occ_dict = {}\n",
    "for current_key, dictionary in occ_dictionary.items():\n",
    "    temp_list = [] \n",
    "    temp_list = sorted(occ_dictionary[current_key].items(), key = lambda x: x[1], reverse= True)\n",
    "    sorted_occ_dict.update( {current_key : temp_list} )"
   ]
  },
  {
   "cell_type": "markdown",
   "metadata": {},
   "source": [
    "### Error handling( not occured) "
   ]
  },
  {
   "cell_type": "code",
   "execution_count": null,
   "metadata": {
    "collapsed": true
   },
   "outputs": [],
   "source": [
    "for current_state, sorted_values in sorted_occ_dict.items():\n",
    "    try:\n",
    "        new_val = sorted_occ_dict[sorted_values[0][0]]\n",
    "        new_val2 = sorted_occ_dict[new_val[0][0]]\n",
    "        new_val3 = sorted_occ_dict[new_val2[0][0]]\n",
    "        new_val4 = sorted_occ_dict[new_val3[0][0]]\n",
    "        new_val5 = sorted_occ_dict[new_val4[0][0]]\n",
    "        new_val6 = sorted_occ_dict[new_val5[0][0]]\n",
    "        new_val7 = sorted_occ_dict[new_val6[0][0]]\n",
    "        new_val8 = sorted_occ_dict[new_val7[0][0]]\n",
    "        new_val9 = sorted_occ_dict[new_val8[0][0]]\n",
    "    except:\n",
    "        print(\"The current state {} leads to the orphan key {} \".format(current_state, sorted_values[0][0]))"
   ]
  },
  {
   "cell_type": "code",
   "execution_count": null,
   "metadata": {
    "collapsed": true
   },
   "outputs": [],
   "source": [
    "# No error coming above as all keys are mapped to each other, no orphan key in it.\n",
    "# Orphan keys cause trouble when it is chosen as a current_state "
   ]
  },
  {
   "cell_type": "markdown",
   "metadata": {},
   "source": [
    "# Making the prediction list "
   ]
  },
  {
   "cell_type": "code",
   "execution_count": null,
   "metadata": {
    "collapsed": true
   },
   "outputs": [],
   "source": [
    "def predictor(number_of_predictions, list_of_pids, patients_diseases_dict, sorted_occ_dict ):\n",
    "    prediction_dict = {}\n",
    "    for pid in list_of_pids:\n",
    "        prediction_for_patient = []\n",
    "        for i in range(-1,-5,-1): #testing for 5 previous values if this shows a keyerror\n",
    "            try:\n",
    "                current_state = patients_diseases_dict[pid][i]\n",
    "                dummy = sorted_occ_dict[current_state][0][0]\n",
    "                new_no_of_prediction = number_of_predictions - i \n",
    "                break\n",
    "            except KeyError:\n",
    "                print(\"For {} , the starting D_id as {} showed KeyError in sorted_occ_dict\".format(pid, current_state))\n",
    "                print(\"Trying the previous key as current_state\")\n",
    "                continue\n",
    "\n",
    "        for i in range(new_no_of_prediction):\n",
    "            next_value = sorted_occ_dict[current_state][0][0]\n",
    "            prediction_for_patient.append(next_value)\n",
    "            current_state = next_value\n",
    "\n",
    "        prediction_dict.update({ pid : prediction_for_patient[-number_of_predictions:] })\n",
    "    return prediction_dict"
   ]
  },
  {
   "cell_type": "code",
   "execution_count": null,
   "metadata": {
    "scrolled": true
   },
   "outputs": [],
   "source": [
    "prediction_dict = predictor(10, list_of_pids, patients_diseases_dict, sorted_occ_dict )"
   ]
  },
  {
   "cell_type": "code",
   "execution_count": null,
   "metadata": {
    "collapsed": true
   },
   "outputs": [],
   "source": [
    "prediction_list = list(prediction_dict.values())"
   ]
  },
  {
   "cell_type": "code",
   "execution_count": null,
   "metadata": {},
   "outputs": [],
   "source": [
    "prediction_list[:10]"
   ]
  },
  {
   "cell_type": "markdown",
   "metadata": {},
   "source": [
    "# Creating the dataframe"
   ]
  },
  {
   "cell_type": "code",
   "execution_count": null,
   "metadata": {
    "collapsed": true
   },
   "outputs": [],
   "source": [
    "event_list = []\n",
    "for i in range(1,11):\n",
    "    event_list.append( 'Event' + str(i))"
   ]
  },
  {
   "cell_type": "code",
   "execution_count": null,
   "metadata": {},
   "outputs": [],
   "source": [
    "final_columns = ['PID'] + event_list"
   ]
  },
  {
   "cell_type": "code",
   "execution_count": null,
   "metadata": {
    "collapsed": true
   },
   "outputs": [],
   "source": [
    "result_df = pd.DataFrame(columns = final_columns)"
   ]
  },
  {
   "cell_type": "code",
   "execution_count": null,
   "metadata": {},
   "outputs": [],
   "source": [
    "for i in range(1, len(prediction_list)+ 1):\n",
    "    result_df.loc[i] = [list_of_pids[i]] + prediction_list[i]"
   ]
  },
  {
   "cell_type": "code",
   "execution_count": null,
   "metadata": {
    "collapsed": true
   },
   "outputs": [],
   "source": [
    "result_df.head()"
   ]
  },
  {
   "cell_type": "code",
   "execution_count": null,
   "metadata": {
    "collapsed": true
   },
   "outputs": [],
   "source": []
  },
  {
   "cell_type": "code",
   "execution_count": null,
   "metadata": {
    "collapsed": true
   },
   "outputs": [],
   "source": []
  },
  {
   "cell_type": "markdown",
   "metadata": {
    "collapsed": true
   },
   "source": [
    "## Evaluation Metric (used in time of testing)"
   ]
  },
  {
   "cell_type": "code",
   "execution_count": null,
   "metadata": {
    "collapsed": true
   },
   "outputs": [],
   "source": [
    "idcg = 0\n",
    "for i in range(1,9):\n",
    "    idcg+= 1/(math.log(i+1, 2))\n",
    "\n",
    "ndcg_list = []\n",
    "for pid in list_of_pids:\n",
    "    predicted = prediction_list[pid]\n",
    "    actual = test_list_dict[pid]\n",
    "    dcg=0\n",
    "    for i in range(1,9):\n",
    "        if(predicted[i] == actual[i]):\n",
    "            reli = 1\n",
    "        elif(predicted[i] in actual):\n",
    "            reli = min( (actual[i]/predicted[i]) , (predicted[i]/actual[i]) )\n",
    "        else:\n",
    "            reli = 0\n",
    "        dcg+= (math.pow(2,reli)-1)/(math.log(i+1,2))\n",
    "    ndcg = dcg/idcg\n",
    "    ndcg_list.append(ndcg)"
   ]
  },
  {
   "cell_type": "code",
   "execution_count": null,
   "metadata": {},
   "outputs": [],
   "source": [
    "metric = sum(ndcg_list)/len(ndcg_list)\n",
    "metric"
   ]
  },
  {
   "cell_type": "code",
   "execution_count": null,
   "metadata": {
    "collapsed": true
   },
   "outputs": [],
   "source": []
  }
 ],
 "metadata": {
  "kernelspec": {
   "display_name": "Python 3",
   "language": "python",
   "name": "python3"
  },
  "language_info": {
   "codemirror_mode": {
    "name": "ipython",
    "version": 3
   },
   "file_extension": ".py",
   "mimetype": "text/x-python",
   "name": "python",
   "nbconvert_exporter": "python",
   "pygments_lexer": "ipython3",
   "version": "3.6.1"
  }
 },
 "nbformat": 4,
 "nbformat_minor": 2
}
